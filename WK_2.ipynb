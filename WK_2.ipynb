{
  "nbformat": 4,
  "nbformat_minor": 0,
  "metadata": {
    "colab": {
      "provenance": [],
      "authorship_tag": "ABX9TyNGiz6mLYOIXYBwsk+X6CI5",
      "include_colab_link": true
    },
    "kernelspec": {
      "name": "python3",
      "display_name": "Python 3"
    },
    "language_info": {
      "name": "python"
    }
  },
  "cells": [
    {
      "cell_type": "markdown",
      "metadata": {
        "id": "view-in-github",
        "colab_type": "text"
      },
      "source": [
        "<a href=\"https://colab.research.google.com/github/cbrink585/dsc650/blob/master/WK_2.ipynb\" target=\"_parent\"><img src=\"https://colab.research.google.com/assets/colab-badge.svg\" alt=\"Open In Colab\"/></a>"
      ]
    },
    {
      "cell_type": "code",
      "execution_count": 3,
      "metadata": {
        "id": "r54PqRuoMC76"
      },
      "outputs": [],
      "source": [
        "from pathlib import Path\n",
        "import json\n",
        "import os\n",
        "\n",
        "from tinydb import TinyDB"
      ]
    },
    {
      "cell_type": "code",
      "source": [
        "! pip install tinydb"
      ],
      "metadata": {
        "colab": {
          "base_uri": "https://localhost:8080/"
        },
        "id": "7lVVPF2QNE8C",
        "outputId": "96b83c0b-d3d4-40b1-c8a7-e05322526d2a"
      },
      "execution_count": 2,
      "outputs": [
        {
          "output_type": "stream",
          "name": "stdout",
          "text": [
            "Looking in indexes: https://pypi.org/simple, https://us-python.pkg.dev/colab-wheels/public/simple/\n",
            "Collecting tinydb\n",
            "  Downloading tinydb-4.7.1-py3-none-any.whl (24 kB)\n",
            "Installing collected packages: tinydb\n",
            "Successfully installed tinydb-4.7.1\n"
          ]
        }
      ]
    },
    {
      "cell_type": "code",
      "source": [
        "current_dir = Path(os.getcwd()).absolute()\n",
        "results_dir = current_dir.joinpath('results')\n",
        "kv_data_dir = results_dir.joinpath('kvdb')\n",
        "kv_data_dir.mkdir(parents=True, exist_ok=True)"
      ],
      "metadata": {
        "id": "Pt_uc7wONQAj"
      },
      "execution_count": 4,
      "outputs": []
    },
    {
      "cell_type": "code",
      "source": [
        "class DocumentDB(object):\n",
        "    def __init__(self, db_path):\n",
        "        ## You can use the code from the previous exmaple if you would like\n",
        "        people_json = kv_data_dir.joinpath('people.json')\n",
        "        visited_json = kv_data_dir.joinpath('visited.json')\n",
        "        sites_json = kv_data_dir.joinpath('sites.json')\n",
        "        measurements_json = kv_data_dir.joinpath('measurements.json')\n",
        "\n",
        "        self._db_path = Path(db_path)\n",
        "        self._db = None\n",
        "        ## TODO: Implement code\n",
        "        self._load_db()"
      ],
      "metadata": {
        "id": "jMQTT1qfNTYs"
      },
      "execution_count": 5,
      "outputs": []
    },
    {
      "cell_type": "code",
      "source": [
        "def _load_db(self):\n",
        "        self._db = TinyDB(self._db_path)\n",
        "        ## TODO: Implement code"
      ],
      "metadata": {
        "id": "yu8sAywENW4I"
      },
      "execution_count": 6,
      "outputs": []
    },
    {
      "cell_type": "code",
      "source": [
        "\n",
        "db_path = results_dir.joinpath('patient-info.json')\n",
        "if db_path.exists():\n",
        "    os.remove(db_path)\n",
        "\n",
        "db = DocumentDB(db_path)"
      ],
      "metadata": {
        "colab": {
          "base_uri": "https://localhost:8080/",
          "height": 283
        },
        "id": "31n5Vt0sNbcY",
        "outputId": "baf1ec7c-a74f-4690-9f74-f12016fca73f"
      },
      "execution_count": 8,
      "outputs": [
        {
          "output_type": "error",
          "ename": "AttributeError",
          "evalue": "ignored",
          "traceback": [
            "\u001b[0;31m---------------------------------------------------------------------------\u001b[0m",
            "\u001b[0;31mAttributeError\u001b[0m                            Traceback (most recent call last)",
            "\u001b[0;32m<ipython-input-8-bb790709a559>\u001b[0m in \u001b[0;36m<cell line: 5>\u001b[0;34m()\u001b[0m\n\u001b[1;32m      3\u001b[0m     \u001b[0mos\u001b[0m\u001b[0;34m.\u001b[0m\u001b[0mremove\u001b[0m\u001b[0;34m(\u001b[0m\u001b[0mdb_path\u001b[0m\u001b[0;34m)\u001b[0m\u001b[0;34m\u001b[0m\u001b[0;34m\u001b[0m\u001b[0m\n\u001b[1;32m      4\u001b[0m \u001b[0;34m\u001b[0m\u001b[0m\n\u001b[0;32m----> 5\u001b[0;31m \u001b[0mdb\u001b[0m \u001b[0;34m=\u001b[0m \u001b[0mDocumentDB\u001b[0m\u001b[0;34m(\u001b[0m\u001b[0mdb_path\u001b[0m\u001b[0;34m)\u001b[0m\u001b[0;34m\u001b[0m\u001b[0;34m\u001b[0m\u001b[0m\n\u001b[0m",
            "\u001b[0;32m<ipython-input-5-a292aeed9cbf>\u001b[0m in \u001b[0;36m__init__\u001b[0;34m(self, db_path)\u001b[0m\n\u001b[1;32m     10\u001b[0m         \u001b[0mself\u001b[0m\u001b[0;34m.\u001b[0m\u001b[0m_db\u001b[0m \u001b[0;34m=\u001b[0m \u001b[0;32mNone\u001b[0m\u001b[0;34m\u001b[0m\u001b[0;34m\u001b[0m\u001b[0m\n\u001b[1;32m     11\u001b[0m         \u001b[0;31m## TODO: Implement code\u001b[0m\u001b[0;34m\u001b[0m\u001b[0;34m\u001b[0m\u001b[0m\n\u001b[0;32m---> 12\u001b[0;31m         \u001b[0mself\u001b[0m\u001b[0;34m.\u001b[0m\u001b[0m_load_db\u001b[0m\u001b[0;34m(\u001b[0m\u001b[0;34m)\u001b[0m\u001b[0;34m\u001b[0m\u001b[0;34m\u001b[0m\u001b[0m\n\u001b[0m",
            "\u001b[0;31mAttributeError\u001b[0m: 'DocumentDB' object has no attribute '_load_db'"
          ]
        }
      ]
    }
  ]
}