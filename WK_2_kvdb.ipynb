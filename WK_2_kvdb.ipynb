{
  "nbformat": 4,
  "nbformat_minor": 0,
  "metadata": {
    "colab": {
      "provenance": [],
      "authorship_tag": "ABX9TyO6Jb1raK6eF4aRgHKKGf9K",
      "include_colab_link": true
    },
    "kernelspec": {
      "name": "python3",
      "display_name": "Python 3"
    },
    "language_info": {
      "name": "python"
    }
  },
  "cells": [
    {
      "cell_type": "markdown",
      "metadata": {
        "id": "view-in-github",
        "colab_type": "text"
      },
      "source": [
        "<a href=\"https://colab.research.google.com/github/cbrink585/dsc650/blob/master/WK_2_kvdb.ipynb\" target=\"_parent\"><img src=\"https://colab.research.google.com/assets/colab-badge.svg\" alt=\"Open In Colab\"/></a>"
      ]
    },
    {
      "cell_type": "code",
      "execution_count": 3,
      "metadata": {
        "id": "cyTtlFtcNzGC"
      },
      "outputs": [],
      "source": [
        "import json\n",
        "from pathlib import Path\n",
        "import os\n",
        "\n",
        "import pandas as pd\n",
        "import s3fs"
      ]
    },
    {
      "cell_type": "code",
      "source": [
        "! pip install s3fs"
      ],
      "metadata": {
        "colab": {
          "base_uri": "https://localhost:8080/"
        },
        "id": "XOqKHVVjN4C2",
        "outputId": "fc01fab6-13a1-4143-e90d-5ef62b3ece8c"
      },
      "execution_count": 2,
      "outputs": [
        {
          "output_type": "stream",
          "name": "stdout",
          "text": [
            "Looking in indexes: https://pypi.org/simple, https://us-python.pkg.dev/colab-wheels/public/simple/\n",
            "Collecting s3fs\n",
            "  Downloading s3fs-2023.4.0-py3-none-any.whl (28 kB)\n",
            "Collecting aiobotocore~=2.5.0\n",
            "  Downloading aiobotocore-2.5.0-py3-none-any.whl (72 kB)\n",
            "\u001b[2K     \u001b[90m━━━━━━━━━━━━━━━━━━━━━━━━━━━━━━━━━━━━━━━━\u001b[0m \u001b[32m72.7/72.7 kB\u001b[0m \u001b[31m10.0 MB/s\u001b[0m eta \u001b[36m0:00:00\u001b[0m\n",
            "\u001b[?25hCollecting aiohttp!=4.0.0a0,!=4.0.0a1\n",
            "  Downloading aiohttp-3.8.4-cp310-cp310-manylinux_2_17_x86_64.manylinux2014_x86_64.whl (1.0 MB)\n",
            "\u001b[2K     \u001b[90m━━━━━━━━━━━━━━━━━━━━━━━━━━━━━━━━━━━━━━━━\u001b[0m \u001b[32m1.0/1.0 MB\u001b[0m \u001b[31m59.8 MB/s\u001b[0m eta \u001b[36m0:00:00\u001b[0m\n",
            "\u001b[?25hRequirement already satisfied: fsspec==2023.4.0 in /usr/local/lib/python3.10/dist-packages (from s3fs) (2023.4.0)\n",
            "Requirement already satisfied: wrapt>=1.10.10 in /usr/local/lib/python3.10/dist-packages (from aiobotocore~=2.5.0->s3fs) (1.14.1)\n",
            "Collecting botocore<1.29.77,>=1.29.76\n",
            "  Downloading botocore-1.29.76-py3-none-any.whl (10.4 MB)\n",
            "\u001b[2K     \u001b[90m━━━━━━━━━━━━━━━━━━━━━━━━━━━━━━━━━━━━━━━━\u001b[0m \u001b[32m10.4/10.4 MB\u001b[0m \u001b[31m53.4 MB/s\u001b[0m eta \u001b[36m0:00:00\u001b[0m\n",
            "\u001b[?25hCollecting aioitertools>=0.5.1\n",
            "  Downloading aioitertools-0.11.0-py3-none-any.whl (23 kB)\n",
            "Collecting yarl<2.0,>=1.0\n",
            "  Downloading yarl-1.9.2-cp310-cp310-manylinux_2_17_x86_64.manylinux2014_x86_64.whl (268 kB)\n",
            "\u001b[2K     \u001b[90m━━━━━━━━━━━━━━━━━━━━━━━━━━━━━━━━━━━━━━\u001b[0m \u001b[32m268.8/268.8 kB\u001b[0m \u001b[31m13.4 MB/s\u001b[0m eta \u001b[36m0:00:00\u001b[0m\n",
            "\u001b[?25hRequirement already satisfied: charset-normalizer<4.0,>=2.0 in /usr/local/lib/python3.10/dist-packages (from aiohttp!=4.0.0a0,!=4.0.0a1->s3fs) (2.0.12)\n",
            "Collecting frozenlist>=1.1.1\n",
            "  Downloading frozenlist-1.3.3-cp310-cp310-manylinux_2_5_x86_64.manylinux1_x86_64.manylinux_2_17_x86_64.manylinux2014_x86_64.whl (149 kB)\n",
            "\u001b[2K     \u001b[90m━━━━━━━━━━━━━━━━━━━━━━━━━━━━━━━━━━━━━━\u001b[0m \u001b[32m149.6/149.6 kB\u001b[0m \u001b[31m20.6 MB/s\u001b[0m eta \u001b[36m0:00:00\u001b[0m\n",
            "\u001b[?25hCollecting aiosignal>=1.1.2\n",
            "  Downloading aiosignal-1.3.1-py3-none-any.whl (7.6 kB)\n",
            "Collecting multidict<7.0,>=4.5\n",
            "  Downloading multidict-6.0.4-cp310-cp310-manylinux_2_17_x86_64.manylinux2014_x86_64.whl (114 kB)\n",
            "\u001b[2K     \u001b[90m━━━━━━━━━━━━━━━━━━━━━━━━━━━━━━━━━━━━━━\u001b[0m \u001b[32m114.5/114.5 kB\u001b[0m \u001b[31m17.3 MB/s\u001b[0m eta \u001b[36m0:00:00\u001b[0m\n",
            "\u001b[?25hRequirement already satisfied: attrs>=17.3.0 in /usr/local/lib/python3.10/dist-packages (from aiohttp!=4.0.0a0,!=4.0.0a1->s3fs) (23.1.0)\n",
            "Collecting async-timeout<5.0,>=4.0.0a3\n",
            "  Downloading async_timeout-4.0.2-py3-none-any.whl (5.8 kB)\n",
            "Requirement already satisfied: python-dateutil<3.0.0,>=2.1 in /usr/local/lib/python3.10/dist-packages (from botocore<1.29.77,>=1.29.76->aiobotocore~=2.5.0->s3fs) (2.8.2)\n",
            "Requirement already satisfied: urllib3<1.27,>=1.25.4 in /usr/local/lib/python3.10/dist-packages (from botocore<1.29.77,>=1.29.76->aiobotocore~=2.5.0->s3fs) (1.26.15)\n",
            "Collecting jmespath<2.0.0,>=0.7.1\n",
            "  Downloading jmespath-1.0.1-py3-none-any.whl (20 kB)\n",
            "Requirement already satisfied: idna>=2.0 in /usr/local/lib/python3.10/dist-packages (from yarl<2.0,>=1.0->aiohttp!=4.0.0a0,!=4.0.0a1->s3fs) (3.4)\n",
            "Requirement already satisfied: six>=1.5 in /usr/local/lib/python3.10/dist-packages (from python-dateutil<3.0.0,>=2.1->botocore<1.29.77,>=1.29.76->aiobotocore~=2.5.0->s3fs) (1.16.0)\n",
            "Installing collected packages: multidict, jmespath, frozenlist, async-timeout, aioitertools, yarl, botocore, aiosignal, aiohttp, aiobotocore, s3fs\n",
            "Successfully installed aiobotocore-2.5.0 aiohttp-3.8.4 aioitertools-0.11.0 aiosignal-1.3.1 async-timeout-4.0.2 botocore-1.29.76 frozenlist-1.3.3 jmespath-1.0.1 multidict-6.0.4 s3fs-2023.4.0 yarl-1.9.2\n"
          ]
        }
      ]
    },
    {
      "cell_type": "code",
      "source": [
        "def read_cluster_csv(file_path, endpoint_url='https://storage.budsc.midwest-datascience.com'):\n",
        "    s3 = s3fs.S3FileSystem(\n",
        "        anon=True,\n",
        "        client_kwargs={\n",
        "            'endpoint_url': endpoint_url\n",
        "        }\n",
        "    )\n",
        "    return pd.read_csv(s3.open(file_path, mode='rb'))"
      ],
      "metadata": {
        "id": "z6OPEWO6OC6r"
      },
      "execution_count": 4,
      "outputs": []
    },
    {
      "cell_type": "code",
      "source": [
        "current_dir = Path(os.getcwd()).absolute()\n",
        "results_dir = current_dir.joinpath('results')\n",
        "kv_data_dir = results_dir.joinpath('kvdb')\n",
        "kv_data_dir.mkdir(parents=True, exist_ok=True)"
      ],
      "metadata": {
        "id": "415hI4pIOHlo"
      },
      "execution_count": 5,
      "outputs": []
    },
    {
      "cell_type": "code",
      "source": [
        "people_json = kv_data_dir.joinpath('people.json')\n",
        "visited_json = kv_data_dir.joinpath('visited.json')\n",
        "sites_json = kv_data_dir.joinpath('sites.json')\n",
        "measurements_json = kv_data_dir.joinpath('measurements.json')"
      ],
      "metadata": {
        "id": "IhT5Bsm6OLOL"
      },
      "execution_count": 6,
      "outputs": []
    },
    {
      "cell_type": "code",
      "source": [
        "class KVDB(object):\n",
        "    def __init__(self, db_path):\n",
        "        self._db_path = Path(db_path)\n",
        "        self._db = {}\n",
        "        self._load_db()"
      ],
      "metadata": {
        "id": "27nn22YrOO2g"
      },
      "execution_count": 7,
      "outputs": []
    },
    {
      "cell_type": "code",
      "source": [
        "def _load_db(self):\n",
        "        if self._db_path.exists():\n",
        "            with open(self._db_path) as f:\n",
        "                self._db = json.load(f)"
      ],
      "metadata": {
        "id": "aCzvAX1yOSiK"
      },
      "execution_count": 8,
      "outputs": []
    },
    {
      "cell_type": "code",
      "source": [
        "def get_value(self, key):\n",
        "        return self._db.get(key)"
      ],
      "metadata": {
        "id": "UwC7mIh3OViX"
      },
      "execution_count": 9,
      "outputs": []
    },
    {
      "cell_type": "code",
      "source": [
        "  def set_value(self, key, value):\n",
        "        self._db[key] = value"
      ],
      "metadata": {
        "id": "zy22FlL5OYrI"
      },
      "execution_count": 10,
      "outputs": []
    },
    {
      "cell_type": "code",
      "source": [
        "   def save(self):\n",
        "        with open(self._db_path, 'w') as f:\n",
        "            json.dump(self._db, f, indent=2)"
      ],
      "metadata": {
        "id": "2ejZRG7dOcpl"
      },
      "execution_count": 11,
      "outputs": []
    },
    {
      "cell_type": "code",
      "source": [
        "def create_sites_kvdb():\n",
        "    db = KVDB(sites_json)\n",
        "    df = read_cluster_csv('data/external/tidynomicon/site.csv')\n",
        "    for site_id, group_df in df.groupby('site_id'):\n",
        "        db.set_value(site_id, group_df.to_dict(orient='records')[0])\n",
        "    db.save()"
      ],
      "metadata": {
        "id": "cJkI5EpQOgIQ"
      },
      "execution_count": 12,
      "outputs": []
    },
    {
      "cell_type": "code",
      "source": [
        "def create_people_kvdb():\n",
        "    db = KVDB(people_json)\n",
        "    ## TODO: Implement code\n",
        "    db.save()"
      ],
      "metadata": {
        "id": "JpnE4DPJOjxO"
      },
      "execution_count": 13,
      "outputs": []
    },
    {
      "cell_type": "code",
      "source": [
        "def create_visits_kvdb():\n",
        "    db = KVDB(visited_json)\n",
        "    ## TODO: Implement code\n",
        "    db.save()"
      ],
      "metadata": {
        "id": "U3ngdgtWOnFk"
      },
      "execution_count": 14,
      "outputs": []
    },
    {
      "cell_type": "code",
      "source": [
        "def create_measurements_kvdb():\n",
        "    db = KVDB(measurements_json)\n",
        "    ## TODO: Implement code\n",
        "    db.save()"
      ],
      "metadata": {
        "id": "aJ2IK6ppOqTA"
      },
      "execution_count": 15,
      "outputs": []
    },
    {
      "cell_type": "code",
      "source": [
        "#create_sites_kvdb()\n",
        "#create_people_kvdb()\n",
        "#create_visits_kvdb()\n",
        "#create_measurements_kvdb()"
      ],
      "metadata": {
        "id": "oIBoH5aHOt9n"
      },
      "execution_count": 17,
      "outputs": []
    },
    {
      "cell_type": "code",
      "source": [
        "def create_sites_kvdb():\n",
        "    db = KVDB(sites_json)\n",
        "    ## TODO: Implement code\n",
        "    db.save()"
      ],
      "metadata": {
        "id": "ABcXX7bbPVBG"
      },
      "execution_count": 18,
      "outputs": []
    },
    {
      "cell_type": "code",
      "source": [
        "def create_people_kvdb():\n",
        "    db = KVDB(measurements_json)\n",
        "    ## TODO: Implement code\n",
        "    db.save()"
      ],
      "metadata": {
        "id": "SX6b4GOtPjXi"
      },
      "execution_count": 19,
      "outputs": []
    },
    {
      "cell_type": "code",
      "source": [
        "def create_visits_kvdb():\n",
        "    db = KVDB(measurements_json)\n",
        "    ## TODO: Implement code\n",
        "    db.save()"
      ],
      "metadata": {
        "id": "pyUlL22iPpCn"
      },
      "execution_count": 20,
      "outputs": []
    },
    {
      "cell_type": "code",
      "source": [
        "def create_measurements_kvdb():\n",
        "    db = KVDB(measurements_json)\n",
        "    ## TODO: Implement code\n",
        "    db.save()"
      ],
      "metadata": {
        "id": "kOQVOLlqPufX"
      },
      "execution_count": null,
      "outputs": []
    }
  ]
}