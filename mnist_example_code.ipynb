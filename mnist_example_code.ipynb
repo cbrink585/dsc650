{
  "nbformat": 4,
  "nbformat_minor": 0,
  "metadata": {
    "colab": {
      "provenance": [],
      "authorship_tag": "ABX9TyO0fu1vlhHTEA0r3TsBkTDg",
      "include_colab_link": true
    },
    "kernelspec": {
      "name": "python3",
      "display_name": "Python 3"
    },
    "language_info": {
      "name": "python"
    }
  },
  "cells": [
    {
      "cell_type": "markdown",
      "metadata": {
        "id": "view-in-github",
        "colab_type": "text"
      },
      "source": [
        "<a href=\"https://colab.research.google.com/github/cbrink585/dsc650/blob/master/mnist_example_code.ipynb\" target=\"_parent\"><img src=\"https://colab.research.google.com/assets/colab-badge.svg\" alt=\"Open In Colab\"/></a>"
      ]
    },
    {
      "cell_type": "code",
      "execution_count": 1,
      "metadata": {
        "id": "Tcp-trzsBXS5"
      },
      "outputs": [],
      "source": [
        "from tensorflow import keras"
      ]
    },
    {
      "cell_type": "code",
      "source": [
        "from tensorflow.keras.datasets import mnist"
      ],
      "metadata": {
        "id": "n1TjCfvhBewc"
      },
      "execution_count": 2,
      "outputs": []
    },
    {
      "cell_type": "code",
      "source": [
        "from tensorflow.keras.models import Sequential"
      ],
      "metadata": {
        "id": "dFbjMkoRBk04"
      },
      "execution_count": 3,
      "outputs": []
    },
    {
      "cell_type": "code",
      "source": [
        "from tensorflow.keras.layers import Dense, Dropout"
      ],
      "metadata": {
        "id": "HcLjhWDcBtHb"
      },
      "execution_count": 4,
      "outputs": []
    },
    {
      "cell_type": "code",
      "source": [
        "from tensorflow.keras.optimizers import RMSprop"
      ],
      "metadata": {
        "id": "qZi0GPVcBzdb"
      },
      "execution_count": 5,
      "outputs": []
    },
    {
      "cell_type": "code",
      "source": [
        "batch_size = 128\n",
        "num_classes = 10\n",
        "epochs = 20"
      ],
      "metadata": {
        "id": "yx0HL2T2B6Uu"
      },
      "execution_count": 6,
      "outputs": []
    },
    {
      "cell_type": "code",
      "source": [
        "(x_train, y_train), (x_test, y_test) = mnist.load_data()"
      ],
      "metadata": {
        "colab": {
          "base_uri": "https://localhost:8080/"
        },
        "id": "dmBipI7cCBsi",
        "outputId": "c8c0e7a5-2cf2-402d-9c60-5a4622aa56dd"
      },
      "execution_count": 7,
      "outputs": [
        {
          "output_type": "stream",
          "name": "stdout",
          "text": [
            "Downloading data from https://storage.googleapis.com/tensorflow/tf-keras-datasets/mnist.npz\n",
            "11490434/11490434 [==============================] - 0s 0us/step\n"
          ]
        }
      ]
    },
    {
      "cell_type": "code",
      "source": [
        "x_train = x_train.reshape(60000, 784)"
      ],
      "metadata": {
        "id": "EU4rc2UxCRGd"
      },
      "execution_count": 9,
      "outputs": []
    },
    {
      "cell_type": "code",
      "source": [
        "x_test = x_test.reshape(10000, 784)"
      ],
      "metadata": {
        "id": "MHnypTjVCcuU"
      },
      "execution_count": 11,
      "outputs": []
    },
    {
      "cell_type": "code",
      "source": [
        "x_train = x_train.astype('float32')"
      ],
      "metadata": {
        "id": "XjRc23SeCzbF"
      },
      "execution_count": 12,
      "outputs": []
    },
    {
      "cell_type": "code",
      "source": [
        "x_test = x_test.astype('float32')"
      ],
      "metadata": {
        "id": "9QiypGtPC7s2"
      },
      "execution_count": 13,
      "outputs": []
    },
    {
      "cell_type": "code",
      "source": [
        "x_train /= 255\n",
        "x_test /= 255"
      ],
      "metadata": {
        "id": "f75lnAM6DCNP"
      },
      "execution_count": 14,
      "outputs": []
    },
    {
      "cell_type": "code",
      "source": [
        "print(x_train.shape[0], 'train samples')\n",
        "print(x_test.shape[0], 'test samples')"
      ],
      "metadata": {
        "colab": {
          "base_uri": "https://localhost:8080/"
        },
        "id": "pvpZ0yglDKXZ",
        "outputId": "f7ebe0b4-de85-484a-eb46-6cc1278b37ff"
      },
      "execution_count": 15,
      "outputs": [
        {
          "output_type": "stream",
          "name": "stdout",
          "text": [
            "60000 train samples\n",
            "10000 test samples\n"
          ]
        }
      ]
    },
    {
      "cell_type": "code",
      "source": [
        "#convert class vectors to binary class matrices\n",
        "y_train = keras.utils.to_categorical(y_train, num_classes)\n",
        "y_test = keras.utils.to_categorical(y_test, num_classes)"
      ],
      "metadata": {
        "id": "2lGX1p0UDXyu"
      },
      "execution_count": 16,
      "outputs": []
    },
    {
      "cell_type": "code",
      "source": [
        "model = Sequential()\n",
        "model.add(Dense(512, activation='relu', input_shape=(784,)))\n",
        "model.add(Dropout(0.2))\n",
        "model.add(Dense(512, activation='relu'))\n",
        "model.add(Dropout(0.2))\n",
        "model.add(Dense(num_classes, activation='softmax'))\n",
        "model.summary()"
      ],
      "metadata": {
        "colab": {
          "base_uri": "https://localhost:8080/"
        },
        "id": "0f7T-Ps-DySD",
        "outputId": "3ac208d9-4255-4b17-99c3-2c0183165948"
      },
      "execution_count": 18,
      "outputs": [
        {
          "output_type": "stream",
          "name": "stdout",
          "text": [
            "Model: \"sequential_1\"\n",
            "_________________________________________________________________\n",
            " Layer (type)                Output Shape              Param #   \n",
            "=================================================================\n",
            " dense (Dense)               (None, 512)               401920    \n",
            "                                                                 \n",
            " dropout (Dropout)           (None, 512)               0         \n",
            "                                                                 \n",
            " dense_1 (Dense)             (None, 512)               262656    \n",
            "                                                                 \n",
            " dropout_1 (Dropout)         (None, 512)               0         \n",
            "                                                                 \n",
            " dense_2 (Dense)             (None, 10)                5130      \n",
            "                                                                 \n",
            "=================================================================\n",
            "Total params: 669,706\n",
            "Trainable params: 669,706\n",
            "Non-trainable params: 0\n",
            "_________________________________________________________________\n"
          ]
        }
      ]
    },
    {
      "cell_type": "code",
      "source": [
        "model.compile(loss='categorical_crossentropy',\n",
        "              optimizer=RMSprop(),\n",
        "              metrics=['accuracy'])"
      ],
      "metadata": {
        "id": "bgWwhYU9Eoca"
      },
      "execution_count": 19,
      "outputs": []
    },
    {
      "cell_type": "code",
      "source": [
        "history = model.fit(x_train, y_train,\n",
        "                    batch_size=batch_size,\n",
        "                    epochs=epochs,\n",
        "                    verbose=1,\n",
        "                    validation_data=(x_test, y_test))\n",
        "                        "
      ],
      "metadata": {
        "colab": {
          "base_uri": "https://localhost:8080/"
        },
        "id": "ArHgZ69YE6c8",
        "outputId": "c72d5756-97b5-46d4-efb1-096f15e3fb6a"
      },
      "execution_count": 22,
      "outputs": [
        {
          "output_type": "stream",
          "name": "stdout",
          "text": [
            "Epoch 1/20\n",
            "469/469 [==============================] - 12s 23ms/step - loss: 0.2547 - accuracy: 0.9228 - val_loss: 0.1154 - val_accuracy: 0.9644\n",
            "Epoch 2/20\n",
            "469/469 [==============================] - 11s 24ms/step - loss: 0.1035 - accuracy: 0.9678 - val_loss: 0.0818 - val_accuracy: 0.9746\n",
            "Epoch 3/20\n",
            "469/469 [==============================] - 11s 23ms/step - loss: 0.0746 - accuracy: 0.9765 - val_loss: 0.0857 - val_accuracy: 0.9727\n",
            "Epoch 4/20\n",
            "469/469 [==============================] - 11s 23ms/step - loss: 0.0581 - accuracy: 0.9822 - val_loss: 0.0683 - val_accuracy: 0.9791\n",
            "Epoch 5/20\n",
            "469/469 [==============================] - 12s 26ms/step - loss: 0.0494 - accuracy: 0.9845 - val_loss: 0.0718 - val_accuracy: 0.9790\n",
            "Epoch 6/20\n",
            "469/469 [==============================] - 10s 21ms/step - loss: 0.0400 - accuracy: 0.9872 - val_loss: 0.0654 - val_accuracy: 0.9801\n",
            "Epoch 7/20\n",
            "469/469 [==============================] - 11s 24ms/step - loss: 0.0336 - accuracy: 0.9889 - val_loss: 0.0593 - val_accuracy: 0.9837\n",
            "Epoch 8/20\n",
            "469/469 [==============================] - 11s 23ms/step - loss: 0.0294 - accuracy: 0.9906 - val_loss: 0.0635 - val_accuracy: 0.9826\n",
            "Epoch 9/20\n",
            "469/469 [==============================] - 11s 23ms/step - loss: 0.0256 - accuracy: 0.9918 - val_loss: 0.0656 - val_accuracy: 0.9837\n",
            "Epoch 10/20\n",
            "469/469 [==============================] - 11s 23ms/step - loss: 0.0233 - accuracy: 0.9924 - val_loss: 0.0614 - val_accuracy: 0.9847\n",
            "Epoch 11/20\n",
            "469/469 [==============================] - 10s 22ms/step - loss: 0.0208 - accuracy: 0.9935 - val_loss: 0.0756 - val_accuracy: 0.9824\n",
            "Epoch 12/20\n",
            "469/469 [==============================] - 11s 24ms/step - loss: 0.0191 - accuracy: 0.9942 - val_loss: 0.0764 - val_accuracy: 0.9830\n",
            "Epoch 13/20\n",
            "469/469 [==============================] - 11s 24ms/step - loss: 0.0183 - accuracy: 0.9940 - val_loss: 0.0710 - val_accuracy: 0.9850\n",
            "Epoch 14/20\n",
            "469/469 [==============================] - 11s 23ms/step - loss: 0.0153 - accuracy: 0.9952 - val_loss: 0.0733 - val_accuracy: 0.9838\n",
            "Epoch 15/20\n",
            "469/469 [==============================] - 11s 23ms/step - loss: 0.0148 - accuracy: 0.9952 - val_loss: 0.0734 - val_accuracy: 0.9833\n",
            "Epoch 16/20\n",
            "469/469 [==============================] - 10s 21ms/step - loss: 0.0136 - accuracy: 0.9957 - val_loss: 0.0737 - val_accuracy: 0.9846\n",
            "Epoch 17/20\n",
            "469/469 [==============================] - 11s 23ms/step - loss: 0.0124 - accuracy: 0.9959 - val_loss: 0.0867 - val_accuracy: 0.9828\n",
            "Epoch 18/20\n",
            "469/469 [==============================] - 11s 24ms/step - loss: 0.0111 - accuracy: 0.9963 - val_loss: 0.0773 - val_accuracy: 0.9838\n",
            "Epoch 19/20\n",
            "469/469 [==============================] - 11s 24ms/step - loss: 0.0105 - accuracy: 0.9962 - val_loss: 0.0788 - val_accuracy: 0.9839\n",
            "Epoch 20/20\n",
            "469/469 [==============================] - 12s 26ms/step - loss: 0.0102 - accuracy: 0.9964 - val_loss: 0.0796 - val_accuracy: 0.9840\n"
          ]
        }
      ]
    },
    {
      "cell_type": "code",
      "source": [
        "#print('Test loss:', score[0])\n",
        "#print('Test accuracy:', score[1])"
      ],
      "metadata": {
        "id": "GC0WyoMWFIQa"
      },
      "execution_count": 25,
      "outputs": []
    }
  ]
}