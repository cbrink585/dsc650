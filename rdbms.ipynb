{
  "nbformat": 4,
  "nbformat_minor": 0,
  "metadata": {
    "colab": {
      "provenance": [],
      "authorship_tag": "ABX9TyOzF3D6Xtkzcd4jK7OdfRBD",
      "include_colab_link": true
    },
    "kernelspec": {
      "name": "python3",
      "display_name": "Python 3"
    },
    "language_info": {
      "name": "python"
    }
  },
  "cells": [
    {
      "cell_type": "markdown",
      "metadata": {
        "id": "view-in-github",
        "colab_type": "text"
      },
      "source": [
        "<a href=\"https://colab.research.google.com/github/cbrink585/dsc650/blob/master/rdbms.ipynb\" target=\"_parent\"><img src=\"https://colab.research.google.com/assets/colab-badge.svg\" alt=\"Open In Colab\"/></a>"
      ]
    },
    {
      "cell_type": "code",
      "execution_count": 1,
      "metadata": {
        "id": "BKjNEWJCQpt5"
      },
      "outputs": [],
      "source": [
        "from pathlib import Path\n",
        "import os\n",
        "import sqlite3"
      ]
    },
    {
      "cell_type": "code",
      "source": [
        "import s3fs\n",
        "import pandas as pd"
      ],
      "metadata": {
        "id": "EUffWQMeQwUQ"
      },
      "execution_count": 4,
      "outputs": []
    },
    {
      "cell_type": "code",
      "source": [
        "! pip install s3fs"
      ],
      "metadata": {
        "colab": {
          "base_uri": "https://localhost:8080/"
        },
        "id": "GiBxVTMqQ1BW",
        "outputId": "fbf530f8-78df-4cb3-d98b-7a9c3c4c8873"
      },
      "execution_count": 3,
      "outputs": [
        {
          "output_type": "stream",
          "name": "stdout",
          "text": [
            "Looking in indexes: https://pypi.org/simple, https://us-python.pkg.dev/colab-wheels/public/simple/\n",
            "Collecting s3fs\n",
            "  Downloading s3fs-2023.4.0-py3-none-any.whl (28 kB)\n",
            "Collecting aiobotocore~=2.5.0\n",
            "  Downloading aiobotocore-2.5.0-py3-none-any.whl (72 kB)\n",
            "\u001b[2K     \u001b[90m━━━━━━━━━━━━━━━━━━━━━━━━━━━━━━━━━━━━━━━━\u001b[0m \u001b[32m72.7/72.7 kB\u001b[0m \u001b[31m8.1 MB/s\u001b[0m eta \u001b[36m0:00:00\u001b[0m\n",
            "\u001b[?25hCollecting aiohttp!=4.0.0a0,!=4.0.0a1\n",
            "  Downloading aiohttp-3.8.4-cp310-cp310-manylinux_2_17_x86_64.manylinux2014_x86_64.whl (1.0 MB)\n",
            "\u001b[2K     \u001b[90m━━━━━━━━━━━━━━━━━━━━━━━━━━━━━━━━━━━━━━━━\u001b[0m \u001b[32m1.0/1.0 MB\u001b[0m \u001b[31m52.9 MB/s\u001b[0m eta \u001b[36m0:00:00\u001b[0m\n",
            "\u001b[?25hRequirement already satisfied: fsspec==2023.4.0 in /usr/local/lib/python3.10/dist-packages (from s3fs) (2023.4.0)\n",
            "Collecting aioitertools>=0.5.1\n",
            "  Downloading aioitertools-0.11.0-py3-none-any.whl (23 kB)\n",
            "Requirement already satisfied: wrapt>=1.10.10 in /usr/local/lib/python3.10/dist-packages (from aiobotocore~=2.5.0->s3fs) (1.14.1)\n",
            "Collecting botocore<1.29.77,>=1.29.76\n",
            "  Downloading botocore-1.29.76-py3-none-any.whl (10.4 MB)\n",
            "\u001b[2K     \u001b[90m━━━━━━━━━━━━━━━━━━━━━━━━━━━━━━━━━━━━━━━━\u001b[0m \u001b[32m10.4/10.4 MB\u001b[0m \u001b[31m86.9 MB/s\u001b[0m eta \u001b[36m0:00:00\u001b[0m\n",
            "\u001b[?25hCollecting yarl<2.0,>=1.0\n",
            "  Downloading yarl-1.9.2-cp310-cp310-manylinux_2_17_x86_64.manylinux2014_x86_64.whl (268 kB)\n",
            "\u001b[2K     \u001b[90m━━━━━━━━━━━━━━━━━━━━━━━━━━━━━━━━━━━━━━\u001b[0m \u001b[32m268.8/268.8 kB\u001b[0m \u001b[31m31.0 MB/s\u001b[0m eta \u001b[36m0:00:00\u001b[0m\n",
            "\u001b[?25hCollecting frozenlist>=1.1.1\n",
            "  Downloading frozenlist-1.3.3-cp310-cp310-manylinux_2_5_x86_64.manylinux1_x86_64.manylinux_2_17_x86_64.manylinux2014_x86_64.whl (149 kB)\n",
            "\u001b[2K     \u001b[90m━━━━━━━━━━━━━━━━━━━━━━━━━━━━━━━━━━━━━━\u001b[0m \u001b[32m149.6/149.6 kB\u001b[0m \u001b[31m10.9 MB/s\u001b[0m eta \u001b[36m0:00:00\u001b[0m\n",
            "\u001b[?25hRequirement already satisfied: attrs>=17.3.0 in /usr/local/lib/python3.10/dist-packages (from aiohttp!=4.0.0a0,!=4.0.0a1->s3fs) (23.1.0)\n",
            "Collecting aiosignal>=1.1.2\n",
            "  Downloading aiosignal-1.3.1-py3-none-any.whl (7.6 kB)\n",
            "Requirement already satisfied: charset-normalizer<4.0,>=2.0 in /usr/local/lib/python3.10/dist-packages (from aiohttp!=4.0.0a0,!=4.0.0a1->s3fs) (2.0.12)\n",
            "Collecting multidict<7.0,>=4.5\n",
            "  Downloading multidict-6.0.4-cp310-cp310-manylinux_2_17_x86_64.manylinux2014_x86_64.whl (114 kB)\n",
            "\u001b[2K     \u001b[90m━━━━━━━━━━━━━━━━━━━━━━━━━━━━━━━━━━━━━━\u001b[0m \u001b[32m114.5/114.5 kB\u001b[0m \u001b[31m15.5 MB/s\u001b[0m eta \u001b[36m0:00:00\u001b[0m\n",
            "\u001b[?25hCollecting async-timeout<5.0,>=4.0.0a3\n",
            "  Downloading async_timeout-4.0.2-py3-none-any.whl (5.8 kB)\n",
            "Requirement already satisfied: urllib3<1.27,>=1.25.4 in /usr/local/lib/python3.10/dist-packages (from botocore<1.29.77,>=1.29.76->aiobotocore~=2.5.0->s3fs) (1.26.15)\n",
            "Requirement already satisfied: python-dateutil<3.0.0,>=2.1 in /usr/local/lib/python3.10/dist-packages (from botocore<1.29.77,>=1.29.76->aiobotocore~=2.5.0->s3fs) (2.8.2)\n",
            "Collecting jmespath<2.0.0,>=0.7.1\n",
            "  Downloading jmespath-1.0.1-py3-none-any.whl (20 kB)\n",
            "Requirement already satisfied: idna>=2.0 in /usr/local/lib/python3.10/dist-packages (from yarl<2.0,>=1.0->aiohttp!=4.0.0a0,!=4.0.0a1->s3fs) (3.4)\n",
            "Requirement already satisfied: six>=1.5 in /usr/local/lib/python3.10/dist-packages (from python-dateutil<3.0.0,>=2.1->botocore<1.29.77,>=1.29.76->aiobotocore~=2.5.0->s3fs) (1.16.0)\n",
            "Installing collected packages: multidict, jmespath, frozenlist, async-timeout, aioitertools, yarl, botocore, aiosignal, aiohttp, aiobotocore, s3fs\n",
            "Successfully installed aiobotocore-2.5.0 aiohttp-3.8.4 aioitertools-0.11.0 aiosignal-1.3.1 async-timeout-4.0.2 botocore-1.29.76 frozenlist-1.3.3 jmespath-1.0.1 multidict-6.0.4 s3fs-2023.4.0 yarl-1.9.2\n"
          ]
        }
      ]
    },
    {
      "cell_type": "code",
      "source": [
        "current_dir = Path(os.getcwd()).absolute()\n",
        "results_dir = current_dir.joinpath('results')\n",
        "kv_data_dir = results_dir.joinpath('kvdb')\n",
        "kv_data_dir.mkdir(parents=True, exist_ok=True)\n"
      ],
      "metadata": {
        "id": "0drFgpFsQ-FP"
      },
      "execution_count": 5,
      "outputs": []
    },
    {
      "cell_type": "code",
      "source": [
        "def read_cluster_csv(file_path, endpoint_url='https://storage.budsc.midwest-datascience.com'):\n",
        "    s3 = s3fs.S3FileSystem(\n",
        "        anon=True,\n",
        "        client_kwargs={\n",
        "            'endpoint_url': endpoint_url\n",
        "        }\n",
        "    )\n",
        "    return pd.read_csv(s3.open(file_path, mode='rb'))"
      ],
      "metadata": {
        "id": "gFin1QWPREUg"
      },
      "execution_count": 6,
      "outputs": []
    },
    {
      "cell_type": "code",
      "source": [
        "def create_measurements_table(conn):\n",
        "    sql = \"\"\"\n",
        "    CREATE TABLE IF NOT EXISTS measurements (\n",
        "        visit_id integer NOT NULL,\n",
        "        person_id text NOT NULL,\n",
        "        quantity text,\n",
        "        reading real,\n",
        "        FOREIGN KEY (visit_id) REFERENCES visits (visit_id),\n",
        "        FOREIGN KEY (person_id) REFERENCES people (people_id)\n",
        "        );\n",
        "    \"\"\"\n",
        "\n",
        "    c = conn.cursor()\n",
        "    c.execute(sql)"
      ],
      "metadata": {
        "id": "Vqkw-0H2RKqw"
      },
      "execution_count": 7,
      "outputs": []
    },
    {
      "cell_type": "code",
      "source": [
        "def load_measurements_table(conn):\n",
        "    create_measurements_table(conn)\n",
        "    df = read_cluster_csv('data/external/tidynomicon/measurements.csv')\n",
        "    measurements = df.values\n",
        "    c = conn.cursor()\n",
        "    c.execute('DELETE FROM measurements;') # Delete data if exists\n",
        "    c.executemany('INSERT INTO measurements VALUES (?,?,?,?)', measurements)"
      ],
      "metadata": {
        "id": "kO9rC0KuRRNR"
      },
      "execution_count": 8,
      "outputs": []
    },
    {
      "cell_type": "code",
      "source": [
        "def create_people_table(conn):\n",
        "    sql = \"\"\"  CREATE TABLE IF NOT EXISTS measurements (\n",
        "        visit_id integer NOT NULL,\n",
        "        person_id text NOT NULL,\n",
        "        quantity text,\n",
        "        reading real,\n",
        "        FOREIGN KEY (visit_id) REFERENCES visits (visit_id),\n",
        "        FOREIGN KEY (person_id) REFERENCES people (people_id)\n",
        "        );\n",
        "    \"\"\"\n",
        "    ## TODO: Complete SQL\n",
        "    c = conn.cursor()\n",
        "    c.execute(sql)\n",
        "    \n",
        "def load_people_table(conn):\n",
        "    create_people_table(conn)\n",
        "    ## TODO: Complete code\n",
        "    def create_sites_table(conn):\n",
        "    sql = \"\"\"\n",
        "    CREATE TABLE IF NOT EXISTS sites (\n",
        "        site_id text PRIMARY KEY,\n",
        "        latitude double NOT NULL,\n",
        "        longitude double NOT NULL\n",
        "        );\n",
        "    \"\"\"\n",
        "\n",
        "    c = conn.cursor()\n",
        "    c.execute(sql)\n",
        "\n",
        "def load_sites_table(conn):\n",
        "    create_sites_table(conn)\n",
        "    ## TODO: Complete code\n",
        "    def create_sites_table(conn):\n",
        "    sql = \"\"\"\n",
        "    CREATE TABLE IF NOT EXISTS sites (\n",
        "        site_id text PRIMARY KEY,\n",
        "        latitude double NOT NULL,\n",
        "        longitude double NOT NULL\n",
        "        );\n",
        "    \"\"\"\n",
        "\n",
        "    c = conn.cursor()\n",
        "    c.execute(sql)\n",
        "\n",
        "def load_sites_table(conn):\n",
        "    create_sites_table(conn)\n",
        "    ## TODO: Complete code"
      ],
      "metadata": {
        "id": "UjxPF4DlRUez"
      },
      "execution_count": 9,
      "outputs": []
    },
    {
      "cell_type": "code",
      "source": [
        "def create_sites_table(conn):\n",
        "    sql = \"\"\"\n",
        "    CREATE TABLE IF NOT EXISTS sites (\n",
        "        site_id text PRIMARY KEY,\n",
        "        latitude double NOT NULL,\n",
        "        longitude double NOT NULL\n",
        "        );\n",
        "    \"\"\"\n",
        "\n",
        "    c = conn.cursor()\n",
        "    c.execute(sql)\n",
        "\n",
        "def load_sites_table(conn):\n",
        "    create_sites_table(conn)\n",
        "    ## TODO: Complete code\n",
        "    def create_sites_table(conn):\n",
        "    sql = \"\"\"\n",
        "    CREATE TABLE IF NOT EXISTS sites (\n",
        "        site_id text PRIMARY KEY,\n",
        "        latitude double NOT NULL,\n",
        "        longitude double NOT NULL\n",
        "        );\n",
        "    \"\"\"\n",
        "\n",
        "    c = conn.cursor()\n",
        "    c.execute(sql)\n",
        "\n",
        "def load_sites_table(conn):\n",
        "    create_sites_table(conn)\n",
        "    ## TODO: Complete code"
      ],
      "metadata": {
        "id": "VhiHTGXoS4YY"
      },
      "execution_count": null,
      "outputs": []
    }
  ]
}